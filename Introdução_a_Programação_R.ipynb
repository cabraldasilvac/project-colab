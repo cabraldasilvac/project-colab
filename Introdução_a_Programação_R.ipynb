{
  "nbformat": 4,
  "nbformat_minor": 0,
  "metadata": {
    "colab": {
      "provenance": [],
      "include_colab_link": true
    },
    "kernelspec": {
      "name": "python3",
      "display_name": "Python 3"
    },
    "language_info": {
      "name": "python"
    }
  },
  "cells": [
    {
      "cell_type": "markdown",
      "metadata": {
        "id": "view-in-github",
        "colab_type": "text"
      },
      "source": [
        "<a href=\"https://colab.research.google.com/github/cabraldasilvac/project-colab/blob/main/Introdu%C3%A7%C3%A3o_a_Programa%C3%A7%C3%A3o_R.ipynb\" target=\"_parent\"><img src=\"https://colab.research.google.com/assets/colab-badge.svg\" alt=\"Open In Colab\"/></a>"
      ]
    },
    {
      "cell_type": "code",
      "execution_count": 8,
      "metadata": {
        "colab": {
          "base_uri": "https://localhost:8080/"
        },
        "id": "qMdLPBcxK6lJ",
        "outputId": "39ae1d20-c145-427e-b850-7b91e8106ae4"
      },
      "outputs": [
        {
          "output_type": "stream",
          "name": "stdout",
          "text": [
            "The rpy2.ipython extension is already loaded. To reload it, use:\n",
            "  %reload_ext rpy2.ipython\n"
          ]
        }
      ],
      "source": [
        "#Usar este comando sempre que for trabalhar com a liguagem de programação R\n",
        "%load_ext rpy2.ipython"
      ]
    },
    {
      "cell_type": "code",
      "source": [
        "%%R\n",
        "cat(\"Olá mundo!\")"
      ],
      "metadata": {
        "colab": {
          "base_uri": "https://localhost:8080/"
        },
        "id": "oxptdfTFaY5o",
        "outputId": "9d6faf10-379f-4e36-a930-b729c6dab231"
      },
      "execution_count": 9,
      "outputs": [
        {
          "output_type": "stream",
          "name": "stdout",
          "text": [
            "Olá mundo!"
          ]
        }
      ]
    },
    {
      "cell_type": "code",
      "source": [
        "%%R #Este código imprime o texto Olá, Mundo!\n",
        "#Variável saudação\n",
        "saudacao = \"Olá\"\n",
        "\n",
        "#Variável pessoa a ser saudada\n",
        "pessoa = \"mundo\"\n",
        "\n",
        "cat(saudacao,\",\",pessoa,\"!\")"
      ],
      "metadata": {
        "colab": {
          "base_uri": "https://localhost:8080/"
        },
        "id": "SOpK9hkDLBe3",
        "outputId": "3d1bd6b2-f1f6-4618-e355-380be59802cd"
      },
      "execution_count": 10,
      "outputs": [
        {
          "output_type": "stream",
          "name": "stdout",
          "text": [
            "Olá , mundo !"
          ]
        }
      ]
    },
    {
      "cell_type": "code",
      "source": [
        "%%R #Parte 3\n",
        "\n",
        "#Pedindo ao usuário que indique a saudação com o comando input()\n",
        "saudacao = readline(prompt = \"Indique a saudação. Exemplos: Oi, E aí, Olá, etc.\");\n",
        "\n",
        "#Pedindo ao usuário que indique a pessoa cumprimentada com input()\n",
        "pessoa = readline(prompt = \"Indique o nome da pessoa cumprimentada: \");\n",
        "\n",
        "#imprimindo o que o usuário escreveu\n",
        "cat(saudacao,\",\",pessoa,\"!\")"
      ],
      "metadata": {
        "colab": {
          "base_uri": "https://localhost:8080/"
        },
        "id": "UkfwhUYyLNYs",
        "outputId": "178ec07e-a4e3-497e-f240-e2585a697c2e"
      },
      "execution_count": null,
      "outputs": [
        {
          "output_type": "stream",
          "name": "stdout",
          "text": [
            "Indique a saudação. Exemplos: Oi, E aí, Olá, etc.Oi\n",
            "Indique o nome da pessoa cumprimentada: Alan Dantas\n",
            "Oi , Alan Dantas !"
          ]
        }
      ]
    },
    {
      "cell_type": "code",
      "source": [
        "%%R #Parte 3\n",
        "\n",
        "#Pedindo ao usuário que indique a saudação com o comando input()\n",
        "saudacao = readline(prompt = \"Indique a saudação. Exemplos: Oi, E aí, Olá, etc.\");\n",
        "\n",
        "#Pedindo ao usuário que indique a pessoa cumprimentada com input()\n",
        "pessoa = readline(prompt = \"Indique o nome da pessoa cumprimentada: \");\n",
        "\n",
        "#imprimindo o que o usuário escreveu com novas condições\n",
        "if (pessoa == \"Alan Dantas\"){\n",
        "cat(saudacao,\", \",pessoa,\"! você é o professor do curso de Analytics para Estratégia de Negócios!\");\n",
        " }\n",
        "else\n",
        "{\n",
        "  cat(saudacao,\", \",pessoa,\"! você é estudante do curso de Analytics para Estratégia de Negócios!\");\n",
        "}\n"
      ],
      "metadata": {
        "colab": {
          "base_uri": "https://localhost:8080/"
        },
        "id": "5RuQzPA3LbQg",
        "outputId": "40f2d498-4c1a-4f86-b232-ab12254fe3bb"
      },
      "execution_count": 6,
      "outputs": [
        {
          "output_type": "stream",
          "name": "stdout",
          "text": [
            "Indique a saudação. Exemplos: Oi, E aí, Olá, etc.Olá\n",
            "Indique o nome da pessoa cumprimentada: Wanderley\n",
            "Olá ,  Wanderley ! você é estudante do curso de Analytics para Estratégia de Negócios!"
          ]
        }
      ]
    },
    {
      "cell_type": "code",
      "source": [
        "%%R #Parte 3\n",
        "\n",
        "#Pedindo ao usuário que indique a saudação com o comando input()\n",
        "saudacao = readline(prompt = \"Indique a saudação. Exemplos: Oi, E aí, Olá, etc.\");\n",
        "\n",
        "#Pedindo ao usuário que indique a pessoa cumprimentada com input()\n",
        "pessoa = readline(prompt = \"Indique o nome da pessoa cumprimentada: \");\n",
        "\n",
        "#imprimindo o que o usuário escreveu com novas condições\n",
        "if (pessoa == \"Alan Dantas\"){\n",
        "  cat(saudacao,\", \",pessoa,\"! você é o professor do curso de Analytics para Estratégia de Negócios!\");\n",
        " }\n",
        "  else\n",
        "{\n",
        "  cat(saudacao,\", \",pessoa,\"! você é estudante do curso de Analytics para Estratégia de Negócios!\");\n",
        "}\n",
        "write(pessoa,file=\"nomes_saudados.txt\",append=TRUE)"
      ],
      "metadata": {
        "colab": {
          "base_uri": "https://localhost:8080/"
        },
        "id": "8oTT1MEyML8R",
        "outputId": "8fae79a8-4979-4ef1-dd55-0f1d8d27abac"
      },
      "execution_count": 7,
      "outputs": [
        {
          "output_type": "stream",
          "name": "stdout",
          "text": [
            "Indique a saudação. Exemplos: Oi, E aí, Olá, etc.olá\n",
            "Indique o nome da pessoa cumprimentada: cabral\n",
            "olá ,  cabral ! você é estudante do curso de Analytics para Estratégia de Negócios!"
          ]
        }
      ]
    }
  ]
}